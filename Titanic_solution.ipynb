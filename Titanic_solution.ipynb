{
  "nbformat": 4,
  "nbformat_minor": 0,
  "metadata": {
    "colab": {
      "provenance": []
    },
    "kernelspec": {
      "name": "python3",
      "display_name": "Python 3"
    },
    "language_info": {
      "name": "python"
    }
  },
  "cells": [
    {
      "cell_type": "markdown",
      "source": [
        "# Подключение к диску"
      ],
      "metadata": {
        "id": "b_UvpYfsQapB"
      }
    },
    {
      "cell_type": "code",
      "execution_count": null,
      "metadata": {
        "id": "ORaHzhdgqWiA",
        "colab": {
          "base_uri": "https://localhost:8080/"
        },
        "outputId": "4bde67b4-767f-483e-95c9-f9780ce43c98"
      },
      "outputs": [
        {
          "output_type": "stream",
          "name": "stdout",
          "text": [
            "Mounted at /content/drive\n"
          ]
        }
      ],
      "source": [
        "from google.colab import drive\n",
        "drive.mount ('/content/drive')"
      ]
    },
    {
      "cell_type": "markdown",
      "source": [
        "# Загрузка данных"
      ],
      "metadata": {
        "id": "sO9N6_ULQiH3"
      }
    },
    {
      "cell_type": "code",
      "execution_count": null,
      "metadata": {
        "colab": {
          "base_uri": "https://localhost:8080/",
          "height": 224
        },
        "id": "Q6aV8L0GORam",
        "outputId": "5409efcf-d9f2-44d5-fc5e-39f63144f166"
      },
      "outputs": [
        {
          "output_type": "stream",
          "name": "stdout",
          "text": [
            "Обучающая выборка\n"
          ]
        },
        {
          "output_type": "execute_result",
          "data": {
            "text/plain": [
              "   PassengerId  Survived  Pclass  \\\n",
              "0            1         0       3   \n",
              "1            2         1       1   \n",
              "2            3         1       3   \n",
              "3            4         1       1   \n",
              "4            5         0       3   \n",
              "\n",
              "                                                Name     Sex   Age  SibSp  \\\n",
              "0                            Braund, Mr. Owen Harris    male  22.0      1   \n",
              "1  Cumings, Mrs. John Bradley (Florence Briggs Th...  female  38.0      1   \n",
              "2                             Heikkinen, Miss. Laina  female  26.0      0   \n",
              "3       Futrelle, Mrs. Jacques Heath (Lily May Peel)  female  35.0      1   \n",
              "4                           Allen, Mr. William Henry    male  35.0      0   \n",
              "\n",
              "   Parch            Ticket     Fare Cabin Embarked  \n",
              "0      0         A/5 21171   7.2500   NaN        S  \n",
              "1      0          PC 17599  71.2833   C85        C  \n",
              "2      0  STON/O2. 3101282   7.9250   NaN        S  \n",
              "3      0            113803  53.1000  C123        S  \n",
              "4      0            373450   8.0500   NaN        S  "
            ],
            "text/html": [
              "\n",
              "  <div id=\"df-eaec16bb-7437-4fba-a9b0-413758a19308\">\n",
              "    <div class=\"colab-df-container\">\n",
              "      <div>\n",
              "<style scoped>\n",
              "    .dataframe tbody tr th:only-of-type {\n",
              "        vertical-align: middle;\n",
              "    }\n",
              "\n",
              "    .dataframe tbody tr th {\n",
              "        vertical-align: top;\n",
              "    }\n",
              "\n",
              "    .dataframe thead th {\n",
              "        text-align: right;\n",
              "    }\n",
              "</style>\n",
              "<table border=\"1\" class=\"dataframe\">\n",
              "  <thead>\n",
              "    <tr style=\"text-align: right;\">\n",
              "      <th></th>\n",
              "      <th>PassengerId</th>\n",
              "      <th>Survived</th>\n",
              "      <th>Pclass</th>\n",
              "      <th>Name</th>\n",
              "      <th>Sex</th>\n",
              "      <th>Age</th>\n",
              "      <th>SibSp</th>\n",
              "      <th>Parch</th>\n",
              "      <th>Ticket</th>\n",
              "      <th>Fare</th>\n",
              "      <th>Cabin</th>\n",
              "      <th>Embarked</th>\n",
              "    </tr>\n",
              "  </thead>\n",
              "  <tbody>\n",
              "    <tr>\n",
              "      <th>0</th>\n",
              "      <td>1</td>\n",
              "      <td>0</td>\n",
              "      <td>3</td>\n",
              "      <td>Braund, Mr. Owen Harris</td>\n",
              "      <td>male</td>\n",
              "      <td>22.0</td>\n",
              "      <td>1</td>\n",
              "      <td>0</td>\n",
              "      <td>A/5 21171</td>\n",
              "      <td>7.2500</td>\n",
              "      <td>NaN</td>\n",
              "      <td>S</td>\n",
              "    </tr>\n",
              "    <tr>\n",
              "      <th>1</th>\n",
              "      <td>2</td>\n",
              "      <td>1</td>\n",
              "      <td>1</td>\n",
              "      <td>Cumings, Mrs. John Bradley (Florence Briggs Th...</td>\n",
              "      <td>female</td>\n",
              "      <td>38.0</td>\n",
              "      <td>1</td>\n",
              "      <td>0</td>\n",
              "      <td>PC 17599</td>\n",
              "      <td>71.2833</td>\n",
              "      <td>C85</td>\n",
              "      <td>C</td>\n",
              "    </tr>\n",
              "    <tr>\n",
              "      <th>2</th>\n",
              "      <td>3</td>\n",
              "      <td>1</td>\n",
              "      <td>3</td>\n",
              "      <td>Heikkinen, Miss. Laina</td>\n",
              "      <td>female</td>\n",
              "      <td>26.0</td>\n",
              "      <td>0</td>\n",
              "      <td>0</td>\n",
              "      <td>STON/O2. 3101282</td>\n",
              "      <td>7.9250</td>\n",
              "      <td>NaN</td>\n",
              "      <td>S</td>\n",
              "    </tr>\n",
              "    <tr>\n",
              "      <th>3</th>\n",
              "      <td>4</td>\n",
              "      <td>1</td>\n",
              "      <td>1</td>\n",
              "      <td>Futrelle, Mrs. Jacques Heath (Lily May Peel)</td>\n",
              "      <td>female</td>\n",
              "      <td>35.0</td>\n",
              "      <td>1</td>\n",
              "      <td>0</td>\n",
              "      <td>113803</td>\n",
              "      <td>53.1000</td>\n",
              "      <td>C123</td>\n",
              "      <td>S</td>\n",
              "    </tr>\n",
              "    <tr>\n",
              "      <th>4</th>\n",
              "      <td>5</td>\n",
              "      <td>0</td>\n",
              "      <td>3</td>\n",
              "      <td>Allen, Mr. William Henry</td>\n",
              "      <td>male</td>\n",
              "      <td>35.0</td>\n",
              "      <td>0</td>\n",
              "      <td>0</td>\n",
              "      <td>373450</td>\n",
              "      <td>8.0500</td>\n",
              "      <td>NaN</td>\n",
              "      <td>S</td>\n",
              "    </tr>\n",
              "  </tbody>\n",
              "</table>\n",
              "</div>\n",
              "      <button class=\"colab-df-convert\" onclick=\"convertToInteractive('df-eaec16bb-7437-4fba-a9b0-413758a19308')\"\n",
              "              title=\"Convert this dataframe to an interactive table.\"\n",
              "              style=\"display:none;\">\n",
              "        \n",
              "  <svg xmlns=\"http://www.w3.org/2000/svg\" height=\"24px\"viewBox=\"0 0 24 24\"\n",
              "       width=\"24px\">\n",
              "    <path d=\"M0 0h24v24H0V0z\" fill=\"none\"/>\n",
              "    <path d=\"M18.56 5.44l.94 2.06.94-2.06 2.06-.94-2.06-.94-.94-2.06-.94 2.06-2.06.94zm-11 1L8.5 8.5l.94-2.06 2.06-.94-2.06-.94L8.5 2.5l-.94 2.06-2.06.94zm10 10l.94 2.06.94-2.06 2.06-.94-2.06-.94-.94-2.06-.94 2.06-2.06.94z\"/><path d=\"M17.41 7.96l-1.37-1.37c-.4-.4-.92-.59-1.43-.59-.52 0-1.04.2-1.43.59L10.3 9.45l-7.72 7.72c-.78.78-.78 2.05 0 2.83L4 21.41c.39.39.9.59 1.41.59.51 0 1.02-.2 1.41-.59l7.78-7.78 2.81-2.81c.8-.78.8-2.07 0-2.86zM5.41 20L4 18.59l7.72-7.72 1.47 1.35L5.41 20z\"/>\n",
              "  </svg>\n",
              "      </button>\n",
              "      \n",
              "  <style>\n",
              "    .colab-df-container {\n",
              "      display:flex;\n",
              "      flex-wrap:wrap;\n",
              "      gap: 12px;\n",
              "    }\n",
              "\n",
              "    .colab-df-convert {\n",
              "      background-color: #E8F0FE;\n",
              "      border: none;\n",
              "      border-radius: 50%;\n",
              "      cursor: pointer;\n",
              "      display: none;\n",
              "      fill: #1967D2;\n",
              "      height: 32px;\n",
              "      padding: 0 0 0 0;\n",
              "      width: 32px;\n",
              "    }\n",
              "\n",
              "    .colab-df-convert:hover {\n",
              "      background-color: #E2EBFA;\n",
              "      box-shadow: 0px 1px 2px rgba(60, 64, 67, 0.3), 0px 1px 3px 1px rgba(60, 64, 67, 0.15);\n",
              "      fill: #174EA6;\n",
              "    }\n",
              "\n",
              "    [theme=dark] .colab-df-convert {\n",
              "      background-color: #3B4455;\n",
              "      fill: #D2E3FC;\n",
              "    }\n",
              "\n",
              "    [theme=dark] .colab-df-convert:hover {\n",
              "      background-color: #434B5C;\n",
              "      box-shadow: 0px 1px 3px 1px rgba(0, 0, 0, 0.15);\n",
              "      filter: drop-shadow(0px 1px 2px rgba(0, 0, 0, 0.3));\n",
              "      fill: #FFFFFF;\n",
              "    }\n",
              "  </style>\n",
              "\n",
              "      <script>\n",
              "        const buttonEl =\n",
              "          document.querySelector('#df-eaec16bb-7437-4fba-a9b0-413758a19308 button.colab-df-convert');\n",
              "        buttonEl.style.display =\n",
              "          google.colab.kernel.accessAllowed ? 'block' : 'none';\n",
              "\n",
              "        async function convertToInteractive(key) {\n",
              "          const element = document.querySelector('#df-eaec16bb-7437-4fba-a9b0-413758a19308');\n",
              "          const dataTable =\n",
              "            await google.colab.kernel.invokeFunction('convertToInteractive',\n",
              "                                                     [key], {});\n",
              "          if (!dataTable) return;\n",
              "\n",
              "          const docLinkHtml = 'Like what you see? Visit the ' +\n",
              "            '<a target=\"_blank\" href=https://colab.research.google.com/notebooks/data_table.ipynb>data table notebook</a>'\n",
              "            + ' to learn more about interactive tables.';\n",
              "          element.innerHTML = '';\n",
              "          dataTable['output_type'] = 'display_data';\n",
              "          await google.colab.output.renderOutput(dataTable, element);\n",
              "          const docLink = document.createElement('div');\n",
              "          docLink.innerHTML = docLinkHtml;\n",
              "          element.appendChild(docLink);\n",
              "        }\n",
              "      </script>\n",
              "    </div>\n",
              "  </div>\n",
              "  "
            ]
          },
          "metadata": {},
          "execution_count": 2
        }
      ],
      "source": [
        "import numpy as np   # для работы с массивами\n",
        "import pandas as pd  # для работы с файлами csv\n",
        "\n",
        "print('Обучающая выборка')\n",
        "train_data = pd.read_csv(\"/content/drive/MyDrive/titanic/train.csv\")\n",
        "train_data.head()\n"
      ]
    },
    {
      "cell_type": "code",
      "source": [
        "print('Тестовая выборка')\n",
        "test_data = pd.read_csv(\"/content/drive/MyDrive/titanic/test.csv\")\n",
        "test_data.head()"
      ],
      "metadata": {
        "colab": {
          "base_uri": "https://localhost:8080/",
          "height": 224
        },
        "id": "320OWmYVg8Z3",
        "outputId": "35c4f920-01c7-42d2-b1e0-39296e8ea2b9"
      },
      "execution_count": null,
      "outputs": [
        {
          "output_type": "stream",
          "name": "stdout",
          "text": [
            "Тестовая выборка\n"
          ]
        },
        {
          "output_type": "execute_result",
          "data": {
            "text/plain": [
              "   PassengerId  Pclass                                          Name     Sex  \\\n",
              "0          892       3                              Kelly, Mr. James    male   \n",
              "1          893       3              Wilkes, Mrs. James (Ellen Needs)  female   \n",
              "2          894       2                     Myles, Mr. Thomas Francis    male   \n",
              "3          895       3                              Wirz, Mr. Albert    male   \n",
              "4          896       3  Hirvonen, Mrs. Alexander (Helga E Lindqvist)  female   \n",
              "\n",
              "    Age  SibSp  Parch   Ticket     Fare Cabin Embarked  \n",
              "0  34.5      0      0   330911   7.8292   NaN        Q  \n",
              "1  47.0      1      0   363272   7.0000   NaN        S  \n",
              "2  62.0      0      0   240276   9.6875   NaN        Q  \n",
              "3  27.0      0      0   315154   8.6625   NaN        S  \n",
              "4  22.0      1      1  3101298  12.2875   NaN        S  "
            ],
            "text/html": [
              "\n",
              "  <div id=\"df-45324623-0f3b-4ae3-9b54-5f55920aff8d\">\n",
              "    <div class=\"colab-df-container\">\n",
              "      <div>\n",
              "<style scoped>\n",
              "    .dataframe tbody tr th:only-of-type {\n",
              "        vertical-align: middle;\n",
              "    }\n",
              "\n",
              "    .dataframe tbody tr th {\n",
              "        vertical-align: top;\n",
              "    }\n",
              "\n",
              "    .dataframe thead th {\n",
              "        text-align: right;\n",
              "    }\n",
              "</style>\n",
              "<table border=\"1\" class=\"dataframe\">\n",
              "  <thead>\n",
              "    <tr style=\"text-align: right;\">\n",
              "      <th></th>\n",
              "      <th>PassengerId</th>\n",
              "      <th>Pclass</th>\n",
              "      <th>Name</th>\n",
              "      <th>Sex</th>\n",
              "      <th>Age</th>\n",
              "      <th>SibSp</th>\n",
              "      <th>Parch</th>\n",
              "      <th>Ticket</th>\n",
              "      <th>Fare</th>\n",
              "      <th>Cabin</th>\n",
              "      <th>Embarked</th>\n",
              "    </tr>\n",
              "  </thead>\n",
              "  <tbody>\n",
              "    <tr>\n",
              "      <th>0</th>\n",
              "      <td>892</td>\n",
              "      <td>3</td>\n",
              "      <td>Kelly, Mr. James</td>\n",
              "      <td>male</td>\n",
              "      <td>34.5</td>\n",
              "      <td>0</td>\n",
              "      <td>0</td>\n",
              "      <td>330911</td>\n",
              "      <td>7.8292</td>\n",
              "      <td>NaN</td>\n",
              "      <td>Q</td>\n",
              "    </tr>\n",
              "    <tr>\n",
              "      <th>1</th>\n",
              "      <td>893</td>\n",
              "      <td>3</td>\n",
              "      <td>Wilkes, Mrs. James (Ellen Needs)</td>\n",
              "      <td>female</td>\n",
              "      <td>47.0</td>\n",
              "      <td>1</td>\n",
              "      <td>0</td>\n",
              "      <td>363272</td>\n",
              "      <td>7.0000</td>\n",
              "      <td>NaN</td>\n",
              "      <td>S</td>\n",
              "    </tr>\n",
              "    <tr>\n",
              "      <th>2</th>\n",
              "      <td>894</td>\n",
              "      <td>2</td>\n",
              "      <td>Myles, Mr. Thomas Francis</td>\n",
              "      <td>male</td>\n",
              "      <td>62.0</td>\n",
              "      <td>0</td>\n",
              "      <td>0</td>\n",
              "      <td>240276</td>\n",
              "      <td>9.6875</td>\n",
              "      <td>NaN</td>\n",
              "      <td>Q</td>\n",
              "    </tr>\n",
              "    <tr>\n",
              "      <th>3</th>\n",
              "      <td>895</td>\n",
              "      <td>3</td>\n",
              "      <td>Wirz, Mr. Albert</td>\n",
              "      <td>male</td>\n",
              "      <td>27.0</td>\n",
              "      <td>0</td>\n",
              "      <td>0</td>\n",
              "      <td>315154</td>\n",
              "      <td>8.6625</td>\n",
              "      <td>NaN</td>\n",
              "      <td>S</td>\n",
              "    </tr>\n",
              "    <tr>\n",
              "      <th>4</th>\n",
              "      <td>896</td>\n",
              "      <td>3</td>\n",
              "      <td>Hirvonen, Mrs. Alexander (Helga E Lindqvist)</td>\n",
              "      <td>female</td>\n",
              "      <td>22.0</td>\n",
              "      <td>1</td>\n",
              "      <td>1</td>\n",
              "      <td>3101298</td>\n",
              "      <td>12.2875</td>\n",
              "      <td>NaN</td>\n",
              "      <td>S</td>\n",
              "    </tr>\n",
              "  </tbody>\n",
              "</table>\n",
              "</div>\n",
              "      <button class=\"colab-df-convert\" onclick=\"convertToInteractive('df-45324623-0f3b-4ae3-9b54-5f55920aff8d')\"\n",
              "              title=\"Convert this dataframe to an interactive table.\"\n",
              "              style=\"display:none;\">\n",
              "        \n",
              "  <svg xmlns=\"http://www.w3.org/2000/svg\" height=\"24px\"viewBox=\"0 0 24 24\"\n",
              "       width=\"24px\">\n",
              "    <path d=\"M0 0h24v24H0V0z\" fill=\"none\"/>\n",
              "    <path d=\"M18.56 5.44l.94 2.06.94-2.06 2.06-.94-2.06-.94-.94-2.06-.94 2.06-2.06.94zm-11 1L8.5 8.5l.94-2.06 2.06-.94-2.06-.94L8.5 2.5l-.94 2.06-2.06.94zm10 10l.94 2.06.94-2.06 2.06-.94-2.06-.94-.94-2.06-.94 2.06-2.06.94z\"/><path d=\"M17.41 7.96l-1.37-1.37c-.4-.4-.92-.59-1.43-.59-.52 0-1.04.2-1.43.59L10.3 9.45l-7.72 7.72c-.78.78-.78 2.05 0 2.83L4 21.41c.39.39.9.59 1.41.59.51 0 1.02-.2 1.41-.59l7.78-7.78 2.81-2.81c.8-.78.8-2.07 0-2.86zM5.41 20L4 18.59l7.72-7.72 1.47 1.35L5.41 20z\"/>\n",
              "  </svg>\n",
              "      </button>\n",
              "      \n",
              "  <style>\n",
              "    .colab-df-container {\n",
              "      display:flex;\n",
              "      flex-wrap:wrap;\n",
              "      gap: 12px;\n",
              "    }\n",
              "\n",
              "    .colab-df-convert {\n",
              "      background-color: #E8F0FE;\n",
              "      border: none;\n",
              "      border-radius: 50%;\n",
              "      cursor: pointer;\n",
              "      display: none;\n",
              "      fill: #1967D2;\n",
              "      height: 32px;\n",
              "      padding: 0 0 0 0;\n",
              "      width: 32px;\n",
              "    }\n",
              "\n",
              "    .colab-df-convert:hover {\n",
              "      background-color: #E2EBFA;\n",
              "      box-shadow: 0px 1px 2px rgba(60, 64, 67, 0.3), 0px 1px 3px 1px rgba(60, 64, 67, 0.15);\n",
              "      fill: #174EA6;\n",
              "    }\n",
              "\n",
              "    [theme=dark] .colab-df-convert {\n",
              "      background-color: #3B4455;\n",
              "      fill: #D2E3FC;\n",
              "    }\n",
              "\n",
              "    [theme=dark] .colab-df-convert:hover {\n",
              "      background-color: #434B5C;\n",
              "      box-shadow: 0px 1px 3px 1px rgba(0, 0, 0, 0.15);\n",
              "      filter: drop-shadow(0px 1px 2px rgba(0, 0, 0, 0.3));\n",
              "      fill: #FFFFFF;\n",
              "    }\n",
              "  </style>\n",
              "\n",
              "      <script>\n",
              "        const buttonEl =\n",
              "          document.querySelector('#df-45324623-0f3b-4ae3-9b54-5f55920aff8d button.colab-df-convert');\n",
              "        buttonEl.style.display =\n",
              "          google.colab.kernel.accessAllowed ? 'block' : 'none';\n",
              "\n",
              "        async function convertToInteractive(key) {\n",
              "          const element = document.querySelector('#df-45324623-0f3b-4ae3-9b54-5f55920aff8d');\n",
              "          const dataTable =\n",
              "            await google.colab.kernel.invokeFunction('convertToInteractive',\n",
              "                                                     [key], {});\n",
              "          if (!dataTable) return;\n",
              "\n",
              "          const docLinkHtml = 'Like what you see? Visit the ' +\n",
              "            '<a target=\"_blank\" href=https://colab.research.google.com/notebooks/data_table.ipynb>data table notebook</a>'\n",
              "            + ' to learn more about interactive tables.';\n",
              "          element.innerHTML = '';\n",
              "          dataTable['output_type'] = 'display_data';\n",
              "          await google.colab.output.renderOutput(dataTable, element);\n",
              "          const docLink = document.createElement('div');\n",
              "          docLink.innerHTML = docLinkHtml;\n",
              "          element.appendChild(docLink);\n",
              "        }\n",
              "      </script>\n",
              "    </div>\n",
              "  </div>\n",
              "  "
            ]
          },
          "metadata": {},
          "execution_count": 3
        }
      ]
    },
    {
      "cell_type": "markdown",
      "source": [
        "# Подготовка атрибутов к анализу"
      ],
      "metadata": {
        "id": "deZSO0s2au_m"
      }
    },
    {
      "cell_type": "code",
      "source": [
        "train_data[\"familysize\"]=(train_data['SibSp']+train_data['Parch']).astype(str)\n",
        "# получаем индикаторные столбцы\n",
        "data = pd.get_dummies(train_data[[\"Sex\",\"Embarked\",\"familysize\"]])\n",
        "\n",
        "data.head()"
      ],
      "metadata": {
        "colab": {
          "base_uri": "https://localhost:8080/",
          "height": 270
        },
        "id": "DVmdD0kZaun4",
        "outputId": "19df2c40-136f-4c90-f43c-f0ed52aa3f5f"
      },
      "execution_count": null,
      "outputs": [
        {
          "output_type": "execute_result",
          "data": {
            "text/plain": [
              "   Sex_female  Sex_male  Embarked_C  Embarked_Q  Embarked_S  familysize_0  \\\n",
              "0           0         1           0           0           1             0   \n",
              "1           1         0           1           0           0             0   \n",
              "2           1         0           0           0           1             1   \n",
              "3           1         0           0           0           1             0   \n",
              "4           0         1           0           0           1             1   \n",
              "\n",
              "   familysize_1  familysize_10  familysize_2  familysize_3  familysize_4  \\\n",
              "0             1              0             0             0             0   \n",
              "1             1              0             0             0             0   \n",
              "2             0              0             0             0             0   \n",
              "3             1              0             0             0             0   \n",
              "4             0              0             0             0             0   \n",
              "\n",
              "   familysize_5  familysize_6  familysize_7  \n",
              "0             0             0             0  \n",
              "1             0             0             0  \n",
              "2             0             0             0  \n",
              "3             0             0             0  \n",
              "4             0             0             0  "
            ],
            "text/html": [
              "\n",
              "  <div id=\"df-8e1ead9c-cb19-44e8-93ef-a74bc47319b7\">\n",
              "    <div class=\"colab-df-container\">\n",
              "      <div>\n",
              "<style scoped>\n",
              "    .dataframe tbody tr th:only-of-type {\n",
              "        vertical-align: middle;\n",
              "    }\n",
              "\n",
              "    .dataframe tbody tr th {\n",
              "        vertical-align: top;\n",
              "    }\n",
              "\n",
              "    .dataframe thead th {\n",
              "        text-align: right;\n",
              "    }\n",
              "</style>\n",
              "<table border=\"1\" class=\"dataframe\">\n",
              "  <thead>\n",
              "    <tr style=\"text-align: right;\">\n",
              "      <th></th>\n",
              "      <th>Sex_female</th>\n",
              "      <th>Sex_male</th>\n",
              "      <th>Embarked_C</th>\n",
              "      <th>Embarked_Q</th>\n",
              "      <th>Embarked_S</th>\n",
              "      <th>familysize_0</th>\n",
              "      <th>familysize_1</th>\n",
              "      <th>familysize_10</th>\n",
              "      <th>familysize_2</th>\n",
              "      <th>familysize_3</th>\n",
              "      <th>familysize_4</th>\n",
              "      <th>familysize_5</th>\n",
              "      <th>familysize_6</th>\n",
              "      <th>familysize_7</th>\n",
              "    </tr>\n",
              "  </thead>\n",
              "  <tbody>\n",
              "    <tr>\n",
              "      <th>0</th>\n",
              "      <td>0</td>\n",
              "      <td>1</td>\n",
              "      <td>0</td>\n",
              "      <td>0</td>\n",
              "      <td>1</td>\n",
              "      <td>0</td>\n",
              "      <td>1</td>\n",
              "      <td>0</td>\n",
              "      <td>0</td>\n",
              "      <td>0</td>\n",
              "      <td>0</td>\n",
              "      <td>0</td>\n",
              "      <td>0</td>\n",
              "      <td>0</td>\n",
              "    </tr>\n",
              "    <tr>\n",
              "      <th>1</th>\n",
              "      <td>1</td>\n",
              "      <td>0</td>\n",
              "      <td>1</td>\n",
              "      <td>0</td>\n",
              "      <td>0</td>\n",
              "      <td>0</td>\n",
              "      <td>1</td>\n",
              "      <td>0</td>\n",
              "      <td>0</td>\n",
              "      <td>0</td>\n",
              "      <td>0</td>\n",
              "      <td>0</td>\n",
              "      <td>0</td>\n",
              "      <td>0</td>\n",
              "    </tr>\n",
              "    <tr>\n",
              "      <th>2</th>\n",
              "      <td>1</td>\n",
              "      <td>0</td>\n",
              "      <td>0</td>\n",
              "      <td>0</td>\n",
              "      <td>1</td>\n",
              "      <td>1</td>\n",
              "      <td>0</td>\n",
              "      <td>0</td>\n",
              "      <td>0</td>\n",
              "      <td>0</td>\n",
              "      <td>0</td>\n",
              "      <td>0</td>\n",
              "      <td>0</td>\n",
              "      <td>0</td>\n",
              "    </tr>\n",
              "    <tr>\n",
              "      <th>3</th>\n",
              "      <td>1</td>\n",
              "      <td>0</td>\n",
              "      <td>0</td>\n",
              "      <td>0</td>\n",
              "      <td>1</td>\n",
              "      <td>0</td>\n",
              "      <td>1</td>\n",
              "      <td>0</td>\n",
              "      <td>0</td>\n",
              "      <td>0</td>\n",
              "      <td>0</td>\n",
              "      <td>0</td>\n",
              "      <td>0</td>\n",
              "      <td>0</td>\n",
              "    </tr>\n",
              "    <tr>\n",
              "      <th>4</th>\n",
              "      <td>0</td>\n",
              "      <td>1</td>\n",
              "      <td>0</td>\n",
              "      <td>0</td>\n",
              "      <td>1</td>\n",
              "      <td>1</td>\n",
              "      <td>0</td>\n",
              "      <td>0</td>\n",
              "      <td>0</td>\n",
              "      <td>0</td>\n",
              "      <td>0</td>\n",
              "      <td>0</td>\n",
              "      <td>0</td>\n",
              "      <td>0</td>\n",
              "    </tr>\n",
              "  </tbody>\n",
              "</table>\n",
              "</div>\n",
              "      <button class=\"colab-df-convert\" onclick=\"convertToInteractive('df-8e1ead9c-cb19-44e8-93ef-a74bc47319b7')\"\n",
              "              title=\"Convert this dataframe to an interactive table.\"\n",
              "              style=\"display:none;\">\n",
              "        \n",
              "  <svg xmlns=\"http://www.w3.org/2000/svg\" height=\"24px\"viewBox=\"0 0 24 24\"\n",
              "       width=\"24px\">\n",
              "    <path d=\"M0 0h24v24H0V0z\" fill=\"none\"/>\n",
              "    <path d=\"M18.56 5.44l.94 2.06.94-2.06 2.06-.94-2.06-.94-.94-2.06-.94 2.06-2.06.94zm-11 1L8.5 8.5l.94-2.06 2.06-.94-2.06-.94L8.5 2.5l-.94 2.06-2.06.94zm10 10l.94 2.06.94-2.06 2.06-.94-2.06-.94-.94-2.06-.94 2.06-2.06.94z\"/><path d=\"M17.41 7.96l-1.37-1.37c-.4-.4-.92-.59-1.43-.59-.52 0-1.04.2-1.43.59L10.3 9.45l-7.72 7.72c-.78.78-.78 2.05 0 2.83L4 21.41c.39.39.9.59 1.41.59.51 0 1.02-.2 1.41-.59l7.78-7.78 2.81-2.81c.8-.78.8-2.07 0-2.86zM5.41 20L4 18.59l7.72-7.72 1.47 1.35L5.41 20z\"/>\n",
              "  </svg>\n",
              "      </button>\n",
              "      \n",
              "  <style>\n",
              "    .colab-df-container {\n",
              "      display:flex;\n",
              "      flex-wrap:wrap;\n",
              "      gap: 12px;\n",
              "    }\n",
              "\n",
              "    .colab-df-convert {\n",
              "      background-color: #E8F0FE;\n",
              "      border: none;\n",
              "      border-radius: 50%;\n",
              "      cursor: pointer;\n",
              "      display: none;\n",
              "      fill: #1967D2;\n",
              "      height: 32px;\n",
              "      padding: 0 0 0 0;\n",
              "      width: 32px;\n",
              "    }\n",
              "\n",
              "    .colab-df-convert:hover {\n",
              "      background-color: #E2EBFA;\n",
              "      box-shadow: 0px 1px 2px rgba(60, 64, 67, 0.3), 0px 1px 3px 1px rgba(60, 64, 67, 0.15);\n",
              "      fill: #174EA6;\n",
              "    }\n",
              "\n",
              "    [theme=dark] .colab-df-convert {\n",
              "      background-color: #3B4455;\n",
              "      fill: #D2E3FC;\n",
              "    }\n",
              "\n",
              "    [theme=dark] .colab-df-convert:hover {\n",
              "      background-color: #434B5C;\n",
              "      box-shadow: 0px 1px 3px 1px rgba(0, 0, 0, 0.15);\n",
              "      filter: drop-shadow(0px 1px 2px rgba(0, 0, 0, 0.3));\n",
              "      fill: #FFFFFF;\n",
              "    }\n",
              "  </style>\n",
              "\n",
              "      <script>\n",
              "        const buttonEl =\n",
              "          document.querySelector('#df-8e1ead9c-cb19-44e8-93ef-a74bc47319b7 button.colab-df-convert');\n",
              "        buttonEl.style.display =\n",
              "          google.colab.kernel.accessAllowed ? 'block' : 'none';\n",
              "\n",
              "        async function convertToInteractive(key) {\n",
              "          const element = document.querySelector('#df-8e1ead9c-cb19-44e8-93ef-a74bc47319b7');\n",
              "          const dataTable =\n",
              "            await google.colab.kernel.invokeFunction('convertToInteractive',\n",
              "                                                     [key], {});\n",
              "          if (!dataTable) return;\n",
              "\n",
              "          const docLinkHtml = 'Like what you see? Visit the ' +\n",
              "            '<a target=\"_blank\" href=https://colab.research.google.com/notebooks/data_table.ipynb>data table notebook</a>'\n",
              "            + ' to learn more about interactive tables.';\n",
              "          element.innerHTML = '';\n",
              "          dataTable['output_type'] = 'display_data';\n",
              "          await google.colab.output.renderOutput(dataTable, element);\n",
              "          const docLink = document.createElement('div');\n",
              "          docLink.innerHTML = docLinkHtml;\n",
              "          element.appendChild(docLink);\n",
              "        }\n",
              "      </script>\n",
              "    </div>\n",
              "  </div>\n",
              "  "
            ]
          },
          "metadata": {},
          "execution_count": 4
        }
      ]
    },
    {
      "cell_type": "code",
      "source": [
        "data[\"class1\"]= np.where((train_data['Pclass']==1), 1, 0)\n",
        "data[\"class2\"]= np.where((train_data['Pclass']==2), 1, 0)\n",
        "data[\"class3\"]= np.where((train_data['Pclass']==3), 1, 0)\n"
      ],
      "metadata": {
        "id": "btfD8byak3zD"
      },
      "execution_count": null,
      "outputs": []
    },
    {
      "cell_type": "code",
      "source": [
        "# замена пропущенных значений возраста\n",
        "\n",
        "mean_age = train_data[\"Age\"].mean() # средний возраст\n",
        "print('Средний возраст')\n",
        "print(mean_age)\n",
        "\n",
        "train_data[\"Age\"] = train_data[\"Age\"].fillna(mean_age)\n",
        "\n",
        "test_data[\"Age\"] = test_data[\"Age\"].fillna(mean_age)\n"
      ],
      "metadata": {
        "colab": {
          "base_uri": "https://localhost:8080/"
        },
        "id": "Qup7oiGzpje_",
        "outputId": "ad80a3e9-77f0-4c18-d8d9-102242e9b8f9"
      },
      "execution_count": null,
      "outputs": [
        {
          "output_type": "stream",
          "name": "stdout",
          "text": [
            "Средний возраст\n",
            "29.69911764705882\n"
          ]
        }
      ]
    },
    {
      "cell_type": "code",
      "source": [
        "data[\"age1\"]= np.where((train_data['Age'] <=16), 1, 0)\n",
        "data[\"age2\"]=np.where((train_data.Age >16) & (train_data.Age <mean_age),1,0)\n",
        "data[\"age3\"]=np.where((train_data.Age >mean_age) & (train_data.Age <mean_age*2),1,0)\n",
        "data[\"age4\"]=np.where( (train_data.Age >=mean_age*2),1,0)"
      ],
      "metadata": {
        "id": "_Fw8Jnt-ry-N"
      },
      "execution_count": null,
      "outputs": []
    },
    {
      "cell_type": "code",
      "source": [
        "# замена пропущенных значений цены билета\n",
        "\n",
        "mean_fare = train_data[\"Fare\"].mean() # средняя цена\n",
        "print('Средняя цена билета')\n",
        "print(mean_fare)\n",
        "\n",
        "train_data[\"Fare\"] = train_data[\"Fare\"].fillna(mean_fare)\n",
        "test_data[\"Fare\"] = test_data[\"Fare\"].fillna(mean_fare)"
      ],
      "metadata": {
        "colab": {
          "base_uri": "https://localhost:8080/"
        },
        "id": "uBVlB_c98fAb",
        "outputId": "ed82ef5f-ceb3-41a7-822c-c06b02e8e6f2"
      },
      "execution_count": null,
      "outputs": [
        {
          "output_type": "stream",
          "name": "stdout",
          "text": [
            "Средняя цена билета\n",
            "32.204207968574636\n"
          ]
        }
      ]
    },
    {
      "cell_type": "code",
      "source": [
        "data[\"fare1\"]= np.where((train_data['Fare'] <=mean_fare/2), 1, 0)\n",
        "data[\"fare2\"]=np.where((train_data.Fare >mean_fare/2) & (train_data.Fare <mean_fare),1,0)\n",
        "data[\"fare3\"]=np.where((train_data.Fare >mean_fare) & (train_data.Fare <mean_fare*2),1,0)\n",
        "data[\"fare4\"]=np.where( (train_data.Fare >=mean_fare*2),1,0)"
      ],
      "metadata": {
        "id": "7mgkeHeq-g0t"
      },
      "execution_count": null,
      "outputs": []
    },
    {
      "cell_type": "code",
      "source": [
        "data[\"master\"]= np.where( ((train_data.Name).str.partition('.')[0]).str.endswith('Master') , 1,0)\n",
        "data[\"mr\"]= np.where( ((train_data.Name).str.partition('.')[0]).str.endswith('Mr') , 1,0)\n",
        "data[\"mrs\"]= np.where( ((train_data.Name).str.partition('.')[0]).str.endswith('Mrs') , 1,0)\n",
        "data[\"miss\"]= np.where( ((train_data.Name).str.partition('.')[0]).str.endswith('Miss') , 1,0)"
      ],
      "metadata": {
        "id": "3z0LhaokCAI5"
      },
      "execution_count": null,
      "outputs": []
    },
    {
      "cell_type": "markdown",
      "source": [
        "# Анализ корреляции атрибутов со столбцом Survived"
      ],
      "metadata": {
        "id": "p8Cpi-JaE4-Q"
      }
    },
    {
      "cell_type": "code",
      "source": [
        "data[\"SURVIVED\"]=train_data[\"Survived\"]\n",
        "\n",
        "# печатаем  корреляции со столбцом Survived\n",
        "print(data.corr()['SURVIVED'])"
      ],
      "metadata": {
        "colab": {
          "base_uri": "https://localhost:8080/"
        },
        "id": "-3err6rVE84t",
        "outputId": "eb07f188-24a6-4442-fee8-5aa11db353e1"
      },
      "execution_count": null,
      "outputs": [
        {
          "output_type": "stream",
          "name": "stdout",
          "text": [
            "Sex_female       0.543351\n",
            "Sex_male        -0.543351\n",
            "Embarked_C       0.168240\n",
            "Embarked_Q       0.003650\n",
            "Embarked_S      -0.155660\n",
            "familysize_0    -0.203367\n",
            "familysize_1     0.163157\n",
            "familysize_10   -0.070234\n",
            "familysize_2     0.143869\n",
            "familysize_3     0.128347\n",
            "familysize_4    -0.049466\n",
            "familysize_5    -0.080968\n",
            "familysize_6    -0.012134\n",
            "familysize_7    -0.064988\n",
            "class1           0.285904\n",
            "class2           0.093349\n",
            "class3          -0.322308\n",
            "age1             0.121485\n",
            "age2            -0.039670\n",
            "age3             0.050201\n",
            "age4            -0.040857\n",
            "fare1           -0.276811\n",
            "fare2            0.082939\n",
            "fare3            0.070220\n",
            "fare4            0.243110\n",
            "master           0.085221\n",
            "mr              -0.549199\n",
            "mrs              0.339040\n",
            "miss             0.327093\n",
            "SURVIVED         1.000000\n",
            "Name: SURVIVED, dtype: float64\n"
          ]
        }
      ]
    },
    {
      "cell_type": "code",
      "source": [
        "# столбцы по размеру семьи\n",
        "\n",
        "data[\"lonely\"]= np.where((train_data['SibSp']+train_data['Parch'])==0, 1, 0)\n",
        "data[\"small_family\"]= np.where(((train_data['SibSp']+train_data['Parch'])>0) & ((train_data['SibSp']+train_data['Parch'])<=3) , 1, 0)\n",
        "data[\"big_family\"]= np.where((train_data['SibSp']+train_data['Parch'])>3, 1, 0)"
      ],
      "metadata": {
        "id": "jmSBJs-vMFG2"
      },
      "execution_count": null,
      "outputs": []
    },
    {
      "cell_type": "code",
      "source": [
        "# печатаем  корреляции со столбцом Survived\n",
        "print(data.corr()['SURVIVED'])"
      ],
      "metadata": {
        "colab": {
          "base_uri": "https://localhost:8080/"
        },
        "id": "iGW_w386MGvc",
        "outputId": "2c323a40-e7b8-43a2-e0a3-e509689a303a"
      },
      "execution_count": null,
      "outputs": [
        {
          "output_type": "stream",
          "name": "stdout",
          "text": [
            "Sex_female       0.543351\n",
            "Sex_male        -0.543351\n",
            "Embarked_C       0.168240\n",
            "Embarked_Q       0.003650\n",
            "Embarked_S      -0.155660\n",
            "familysize_0    -0.203367\n",
            "familysize_1     0.163157\n",
            "familysize_10   -0.070234\n",
            "familysize_2     0.143869\n",
            "familysize_3     0.128347\n",
            "familysize_4    -0.049466\n",
            "familysize_5    -0.080968\n",
            "familysize_6    -0.012134\n",
            "familysize_7    -0.064988\n",
            "class1           0.285904\n",
            "class2           0.093349\n",
            "class3          -0.322308\n",
            "age1             0.121485\n",
            "age2            -0.039670\n",
            "age3             0.050201\n",
            "age4            -0.040857\n",
            "fare1           -0.276811\n",
            "fare2            0.082939\n",
            "fare3            0.070220\n",
            "fare4            0.243110\n",
            "master           0.085221\n",
            "mr              -0.549199\n",
            "mrs              0.339040\n",
            "miss             0.327093\n",
            "SURVIVED         1.000000\n",
            "lonely          -0.203367\n",
            "small_family     0.279855\n",
            "big_family      -0.125147\n",
            "Name: SURVIVED, dtype: float64\n"
          ]
        }
      ]
    },
    {
      "cell_type": "markdown",
      "source": [
        "# Создание и тестирование модели"
      ],
      "metadata": {
        "id": "O3u0zb5WQo9N"
      }
    },
    {
      "cell_type": "code",
      "source": [
        "\n",
        "# атрибуты для обучения\n",
        "data = pd.get_dummies(train_data[[\"Sex\"]])\n",
        "data[\"C\"] = np.where((train_data[\"Embarked\"]=='C'),1,0)\n",
        "data[\"S\"] = np.where((train_data[\"Embarked\"]=='S'),1,0)\n",
        "data[\"class1\"]= np.where((train_data['Pclass']==1), 1, 0)\n",
        "data[\"class2\"]= np.where((train_data['Pclass']==2), 1, 0)\n",
        "data[\"class3\"]= np.where((train_data['Pclass']==3), 1, 0)\n",
        "data[\"age1\"]= np.where((train_data['Age'] <=16), 1, 0)\n",
        "data[\"fare1\"]= np.where((train_data['Fare'] <=mean_fare/2), 1, 0)\n",
        "data[\"fare4\"]=np.where( (train_data.Fare >=mean_fare*2),1,0)\n",
        "data[\"mr\"]= np.where( ((train_data.Name).str.partition('.')[0]).str.endswith('Mr') , 1,0)\n",
        "data[\"mrs\"]= np.where( ((train_data.Name).str.partition('.')[0]).str.endswith('Mrs') , 1,0)\n",
        "data[\"miss\"]= np.where( ((train_data.Name).str.partition('.')[0]).str.endswith('Miss') , 1,0)\n",
        "data[\"lonely\"]= np.where((train_data['SibSp']+train_data['Parch'])==0, 1, 0)\n",
        "data[\"small_family\"]= np.where(((train_data['SibSp']+train_data['Parch'])>0) & ((train_data['SibSp']+train_data['Parch'])<=3) , 1, 0)\n",
        "data[\"big_family\"]= np.where((train_data['SibSp']+train_data['Parch'])>3, 1, 0)\n",
        "\n",
        "# атрибуты для тестирования\n",
        "tdata = pd.get_dummies(test_data[[\"Sex\"]])\n",
        "tdata[\"C\"] = np.where((test_data[\"Embarked\"]=='C'),1,0)\n",
        "tdata[\"S\"] = np.where((test_data[\"Embarked\"]=='S'),1,0)\n",
        "tdata[\"class1\"]= np.where((test_data['Pclass']==1), 1, 0)\n",
        "tdata[\"class2\"]= np.where((test_data['Pclass']==2), 1, 0)\n",
        "tdata[\"class3\"]= np.where((test_data['Pclass']==3), 1, 0)\n",
        "tdata[\"age1\"]= np.where((test_data['Age'] <=16), 1, 0)\n",
        "tdata[\"fare1\"]= np.where((test_data['Fare'] <=mean_fare/2), 1, 0)\n",
        "tdata[\"fare4\"]=np.where( (test_data.Fare >=mean_fare*2),1,0)\n",
        "tdata[\"mr\"]= np.where( ((test_data.Name).str.partition('.')[0]).str.endswith('Mr') , 1,0)\n",
        "tdata[\"mrs\"]= np.where( ((test_data.Name).str.partition('.')[0]).str.endswith('Mrs') , 1,0)\n",
        "tdata[\"miss\"]= np.where( ((test_data.Name).str.partition('.')[0]).str.endswith('Miss') , 1,0)\n",
        "tdata[\"lonely\"]= np.where((test_data['SibSp']+test_data['Parch'])==0, 1, 0)\n",
        "tdata[\"small_family\"]= np.where(((test_data['SibSp']+test_data['Parch'])>0) & ((test_data['SibSp']+test_data['Parch'])<=3) , 1, 0)\n",
        "tdata[\"big_family\"]= np.where((test_data['SibSp']+test_data['Parch'])>3, 1, 0)"
      ],
      "metadata": {
        "id": "lPXGYuJkQqpA"
      },
      "execution_count": null,
      "outputs": []
    },
    {
      "cell_type": "code",
      "source": [
        "data[\"chance\"] = (data[\"Sex_female\"]*0.54 - data[\"Sex_male\"]*0.54\n",
        "                  +data[\"C\"]*0.17-data[\"S\"]*0.16+data[\"class1\"]*0.29\n",
        "                  +data[\"class2\"]*0.09-data[\"class3\"]*0.32+ data[\"age1\"]*0.12\n",
        "                  - data['fare1']*0.28+data['fare4']*0.24-data['lonely']*0.2\n",
        "                  + data['small_family']*0.28-data['big_family']*0.13\n",
        "                  -data[\"mr\"]*0.55+data[\"mrs\"]*0.34+data[\"miss\"]*0.33)"
      ],
      "metadata": {
        "id": "QPem9HnMfazT"
      },
      "execution_count": null,
      "outputs": []
    },
    {
      "cell_type": "code",
      "source": [
        "tdata[\"chance\"] = (tdata[\"Sex_female\"]*0.54 - tdata[\"Sex_male\"]*0.54\n",
        "                  +tdata[\"C\"]*0.17-tdata[\"S\"]*0.16+tdata[\"class1\"]*0.29\n",
        "                  +tdata[\"class2\"]*0.09-tdata[\"class3\"]*0.32+ tdata[\"age1\"]*0.12\n",
        "                  - tdata['fare1']*0.28+tdata['fare4']*0.24-tdata['lonely']*0.2\n",
        "                  + tdata['small_family']*0.28-tdata['big_family']*0.13\n",
        "                  -tdata[\"mr\"]*0.55+tdata[\"mrs\"]*0.34+tdata[\"miss\"]*0.33)"
      ],
      "metadata": {
        "id": "fWLjyIkwhc3u"
      },
      "execution_count": null,
      "outputs": []
    },
    {
      "cell_type": "code",
      "source": [
        "# гауссовский наивный байесовский классификатор\n",
        "from sklearn.naive_bayes import GaussianNB\n",
        "\n",
        "y = train_data['Survived'] # метки"
      ],
      "metadata": {
        "id": "Iu3yhHVsiXv6"
      },
      "execution_count": null,
      "outputs": []
    },
    {
      "cell_type": "code",
      "source": [
        "model = GaussianNB() # создаём модель\n",
        "model.fit(data[['chance']], y) # обучаем\n",
        "# результат на обучающей выборке\n",
        "display(model.score(data[['chance']], y))\n"
      ],
      "metadata": {
        "colab": {
          "base_uri": "https://localhost:8080/",
          "height": 35
        },
        "id": "4b4gSlVTknHW",
        "outputId": "6d01237c-07b2-4c28-d321-c52c5823fcb6"
      },
      "execution_count": null,
      "outputs": [
        {
          "output_type": "display_data",
          "data": {
            "text/plain": [
              "0.7901234567901234"
            ]
          },
          "metadata": {}
        }
      ]
    },
    {
      "cell_type": "markdown",
      "source": [
        "# Анализ корреляции атрибутов с учетом пола пассажира"
      ],
      "metadata": {
        "id": "-K5TzBedo2Gm"
      }
    },
    {
      "cell_type": "code",
      "source": [
        "data = pd.get_dummies(train_data[[\"Sex\",\"Embarked\"]])\n",
        "data[\"class1\"]= np.where((train_data['Pclass']==1), 1, 0)\n",
        "data[\"class2\"]= np.where((train_data['Pclass']==2), 1, 0)\n",
        "data[\"class3\"]= np.where((train_data['Pclass']==3), 1, 0)\n",
        "data[\"age1\"]= np.where((train_data['Age'] <=16), 1, 0)\n",
        "data[\"age2\"]=np.where((train_data.Age >16) & (train_data.Age <mean_age),1,0)\n",
        "data[\"age3\"]=np.where((train_data.Age >mean_age) & (train_data.Age <mean_age*2),1,0)\n",
        "data[\"age4\"]=np.where( (train_data.Age >=mean_age*2),1,0)\n",
        "data[\"fare1\"]= np.where((train_data['Fare'] <=mean_fare/2), 1, 0)\n",
        "data[\"fare2\"]=np.where((train_data.Fare >mean_fare/2) & (train_data.Fare <mean_fare),1,0)\n",
        "data[\"fare3\"]=np.where((train_data.Fare >mean_fare) & (train_data.Fare <mean_fare*2),1,0)\n",
        "data[\"fare4\"]=np.where( (train_data.Fare >=mean_fare*2),1,0)\n",
        "data[\"master\"]= np.where( ((train_data.Name).str.partition('.')[0]).str.endswith('Master') , 1,0)\n",
        "data[\"mr\"]= np.where( ((train_data.Name).str.partition('.')[0]).str.endswith('Mr') , 1,0)\n",
        "data[\"mrs\"]= np.where( ((train_data.Name).str.partition('.')[0]).str.endswith('Mrs') , 1,0)\n",
        "data[\"miss\"]= np.where( ((train_data.Name).str.partition('.')[0]).str.endswith('Miss') , 1,0)\n",
        "data[\"lonely\"]= np.where((train_data['SibSp']+train_data['Parch'])==0, 1, 0)\n",
        "data[\"small_family\"]= np.where(((train_data['SibSp']+train_data['Parch'])>0) & ((train_data['SibSp']+train_data['Parch'])<=3) , 1, 0)\n",
        "data[\"big_family\"]= np.where((train_data['SibSp']+train_data['Parch'])>3, 1, 0)\n",
        "\n",
        "# выжившие женщины\n",
        "data[\"female_survived\"]=train_data.loc[train_data.Sex == 'female'][\"Survived\"]\n",
        "\n",
        "# выжившие мужчины\n",
        "data[\"male_survived\"]=train_data.loc[train_data.Sex == 'male'][\"Survived\"]\n",
        "\n",
        "print(\"Влияние на выживаемость женщин\")\n",
        "print(data.corr()[\"female_survived\"])\n",
        "\n",
        "print('')\n",
        "\n",
        "print(\"Влияние на выживаемость мужчин\")\n",
        "print(data.corr()[\"male_survived\"])"
      ],
      "metadata": {
        "colab": {
          "base_uri": "https://localhost:8080/"
        },
        "id": "Ov-KMSWqo92-",
        "outputId": "cef40e47-1d2b-4443-d63a-d1856a8398cb"
      },
      "execution_count": null,
      "outputs": [
        {
          "output_type": "stream",
          "name": "stdout",
          "text": [
            "Влияние на выживаемость женщин\n",
            "Sex_female              NaN\n",
            "Sex_male                NaN\n",
            "Embarked_C         0.169413\n",
            "Embarked_Q         0.006549\n",
            "Embarked_S        -0.161915\n",
            "class1             0.337723\n",
            "class2             0.231215\n",
            "class3            -0.509155\n",
            "age1              -0.067392\n",
            "age2              -0.011307\n",
            "age3               0.097282\n",
            "age4               0.066975\n",
            "fare1             -0.158651\n",
            "fare2             -0.084936\n",
            "fare3              0.054252\n",
            "fare4              0.235028\n",
            "master                  NaN\n",
            "mr                      NaN\n",
            "mrs                0.092869\n",
            "miss              -0.118723\n",
            "lonely             0.081726\n",
            "small_family       0.145363\n",
            "big_family        -0.367598\n",
            "female_survived    1.000000\n",
            "male_survived           NaN\n",
            "Name: female_survived, dtype: float64\n",
            "\n",
            "Влияние на выживаемость мужчин\n",
            "Sex_female              NaN\n",
            "Sex_male                NaN\n",
            "Embarked_C         0.131966\n",
            "Embarked_Q        -0.081775\n",
            "Embarked_S        -0.065808\n",
            "class1             0.238041\n",
            "class2            -0.038618\n",
            "class3            -0.167757\n",
            "age1               0.192877\n",
            "age2              -0.058136\n",
            "age3               0.022042\n",
            "age4              -0.026726\n",
            "fare1             -0.219967\n",
            "fare2              0.128121\n",
            "fare3              0.107660\n",
            "fare4              0.086801\n",
            "master             0.269199\n",
            "mr                -0.241734\n",
            "mrs                     NaN\n",
            "miss                    NaN\n",
            "lonely            -0.133419\n",
            "small_family       0.188539\n",
            "big_family        -0.090754\n",
            "female_survived         NaN\n",
            "male_survived      1.000000\n",
            "Name: male_survived, dtype: float64\n"
          ]
        }
      ]
    },
    {
      "cell_type": "markdown",
      "source": [
        "# Создание улучшенной модели"
      ],
      "metadata": {
        "id": "f824xw7gTy5c"
      }
    },
    {
      "cell_type": "code",
      "source": [
        "# атрибуты для обучения\n",
        "data = pd.get_dummies(train_data[[\"Sex\"]])\n",
        "data[\"C\"] = np.where((train_data[\"Embarked\"]=='C'),1,0)\n",
        "data[\"S\"] = np.where((train_data[\"Embarked\"]=='S'),1,0)\n",
        "data[\"class1\"]= np.where((train_data['Pclass']==1), 1, 0)\n",
        "data[\"class2\"]= np.where((train_data['Pclass']==2), 1, 0)\n",
        "data[\"class3\"]= np.where((train_data['Pclass']==3), 1, 0)\n",
        "data[\"age1\"]= np.where((train_data['Age'] <=16), 1, 0)\n",
        "data[\"age3\"]=np.where((train_data.Age >mean_age) & (train_data.Age <mean_age*2),1,0)\n",
        "data[\"fare1\"]= np.where((train_data['Fare'] <=mean_fare/2), 1, 0)\n",
        "data[\"fare2\"]=np.where((train_data.Fare >mean_fare/2) & (train_data.Fare <mean_fare),1,0)\n",
        "data[\"fare3\"]=np.where((train_data.Fare >mean_fare) & (train_data.Fare <mean_fare*2),1,0)\n",
        "data[\"fare4\"]=np.where( (train_data.Fare >=mean_fare*2),1,0)\n",
        "data[\"master\"]= np.where( ((train_data.Name).str.partition('.')[0]).str.endswith('Master') , 1,0)\n",
        "data[\"mr\"]= np.where( ((train_data.Name).str.partition('.')[0]).str.endswith('Mr') , 1,0)\n",
        "data[\"mrs\"]= np.where( ((train_data.Name).str.partition('.')[0]).str.endswith('Mrs') , 1,0)\n",
        "data[\"miss\"]= np.where( ((train_data.Name).str.partition('.')[0]).str.endswith('Miss') , 1,0)\n",
        "data[\"lonely\"]= np.where((train_data['SibSp']+train_data['Parch'])==0, 1, 0)\n",
        "data[\"small_family\"]= np.where(((train_data['SibSp']+train_data['Parch'])>0) & ((train_data['SibSp']+train_data['Parch'])<=3) , 1, 0)\n",
        "data[\"big_family\"]= np.where((train_data['SibSp']+train_data['Parch'])>3, 1, 0)\n",
        "\n",
        "# атрибуты для тестирования\n",
        "tdata = pd.get_dummies(test_data[[\"Sex\"]])\n",
        "tdata[\"C\"] = np.where((test_data[\"Embarked\"]=='C'),1,0)\n",
        "tdata[\"S\"] = np.where((test_data[\"Embarked\"]=='S'),1,0)\n",
        "tdata[\"class1\"]= np.where((test_data['Pclass']==1), 1, 0)\n",
        "tdata[\"class2\"]= np.where((test_data['Pclass']==2), 1, 0)\n",
        "tdata[\"class3\"]= np.where((test_data['Pclass']==3), 1, 0)\n",
        "tdata[\"age1\"]= np.where((test_data['Age'] <=16), 1, 0)\n",
        "tdata[\"age3\"]=np.where((test_data.Age >mean_age) & (test_data.Age <mean_age*2),1,0)\n",
        "tdata[\"fare1\"]= np.where((test_data['Fare'] <=mean_fare/2), 1, 0)\n",
        "tdata[\"fare2\"]=np.where((test_data.Fare >mean_fare/2) & (test_data.Fare <mean_fare),1,0)\n",
        "tdata[\"fare3\"]=np.where((test_data.Fare >mean_fare) & (test_data.Fare <mean_fare*2),1,0)\n",
        "tdata[\"fare4\"]=np.where( (test_data.Fare >=mean_fare*2),1,0)\n",
        "tdata[\"master\"]= np.where( ((test_data.Name).str.partition('.')[0]).str.endswith('Master') , 1,0)\n",
        "tdata[\"mr\"]= np.where( ((test_data.Name).str.partition('.')[0]).str.endswith('Mr') , 1,0)\n",
        "tdata[\"mrs\"]= np.where( ((test_data.Name).str.partition('.')[0]).str.endswith('Mrs') , 1,0)\n",
        "tdata[\"miss\"]= np.where( ((test_data.Name).str.partition('.')[0]).str.endswith('Miss') , 1,0)\n",
        "tdata[\"lonely\"]= np.where((test_data['SibSp']+test_data['Parch'])==0, 1, 0)\n",
        "tdata[\"small_family\"]= np.where(((test_data['SibSp']+test_data['Parch'])>0) & ((test_data['SibSp']+test_data['Parch'])<=3) , 1, 0)\n",
        "tdata[\"big_family\"]= np.where((test_data['SibSp']+test_data['Parch'])>3, 1, 0)"
      ],
      "metadata": {
        "id": "2KqRuvBKT33B"
      },
      "execution_count": null,
      "outputs": []
    },
    {
      "cell_type": "code",
      "source": [
        "data[\"chance\"]=(data[\"Sex_female\"]*(0.54+0.1*data['age3']-0.12*data['miss']\n",
        "                                    +0.09*data['mrs']+data['C']*0.17-data['S']*0.16\n",
        "                                    +data['small_family']*0.15-data[\"big_family\"]*0.37\n",
        "                                    +data['class1']*0.34+data['class2']*0.23-data['class3']*0.51\n",
        "                                    -data['fare1']*0.16+data['fare4']*0.24)\n",
        "                                    +data[\"Sex_male\"]*(-0.54+0.27*data[\"master\"]-0.24*data[\"mr\"]\n",
        "                                                       +0.13*data['C']-0.13*data['lonely']\n",
        "                                                       +0.19*data['small_family']-0.09*data['big_family']\n",
        "                                                       +0.24*data['class1']-0.17*data['class3']\n",
        "                                                       +0.19*data['age1']-0.22*data['fare1']+0.13*data['fare2']\n",
        "                                                       +0.11*data['fare3']))\n",
        "\n",
        "tdata[\"chance\"]=(tdata[\"Sex_female\"]*(0.54+0.1*tdata['age3']-0.12*tdata['miss']\n",
        "                                    +0.09*tdata['mrs']+tdata['C']*0.17-tdata['S']*0.16\n",
        "                                    +tdata['small_family']*0.15-tdata[\"big_family\"]*0.37\n",
        "                                    +tdata['class1']*0.34+tdata['class2']*0.23-tdata['class3']*0.51\n",
        "                                    -tdata['fare1']*0.16+tdata['fare4']*0.24)\n",
        "                                    +tdata[\"Sex_male\"]*(-0.54+0.27*tdata[\"master\"]-0.24*tdata[\"mr\"]\n",
        "                                                       +0.13*tdata['C']-0.13*tdata['lonely']\n",
        "                                                       +0.19*tdata['small_family']-0.09*tdata['big_family']\n",
        "                                                       +0.24*tdata['class1']-0.17*tdata['class3']\n",
        "                                                       +0.19*tdata['age1']-0.22*tdata['fare1']+0.13*tdata['fare2']\n",
        "                                                       +0.11*tdata['fare3']))"
      ],
      "metadata": {
        "id": "vmG-xdNldSYL"
      },
      "execution_count": null,
      "outputs": []
    },
    {
      "cell_type": "code",
      "source": [
        "# гауссовский наивный байесовский классификатор\n",
        "from sklearn.naive_bayes import GaussianNB\n",
        "\n",
        "y = train_data['Survived'] # метки"
      ],
      "metadata": {
        "id": "X7_4PlWZuDu-"
      },
      "execution_count": null,
      "outputs": []
    },
    {
      "cell_type": "code",
      "source": [
        "model = GaussianNB() # создаём модель\n",
        "model.fit(data[['chance']], y) # обучаем\n",
        "# результат на обучающей выборке\n",
        "display(model.score(data[['chance']], y))"
      ],
      "metadata": {
        "colab": {
          "base_uri": "https://localhost:8080/",
          "height": 35
        },
        "id": "ToFce98EuKEr",
        "outputId": "0dcfea88-b44f-45f8-c329-dfe7b32d6316"
      },
      "execution_count": null,
      "outputs": [
        {
          "output_type": "display_data",
          "data": {
            "text/plain": [
              "0.8148148148148148"
            ]
          },
          "metadata": {}
        }
      ]
    },
    {
      "cell_type": "code",
      "source": [
        "predictions = model.predict(tdata[['chance']])\n",
        "\n",
        "output = pd.DataFrame({'PassengerId': test_data.PassengerId, 'Survived': predictions})\n",
        "output.to_csv('try.csv', index=False)"
      ],
      "metadata": {
        "id": "2eJb_YIiuQ_J"
      },
      "execution_count": null,
      "outputs": []
    }
  ]
}